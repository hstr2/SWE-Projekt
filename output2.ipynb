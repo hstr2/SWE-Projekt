{
 "cells": [
  {
   "cell_type": "code",
   "execution_count": 4,
   "metadata": {},
   "outputs": [
    {
     "data": {
      "text/html": [
       "<div><div></div><div></div><div><strong>Installed Packages</strong><ul><li><span>XPlot.Plotly, 3.0.1</span></li></ul></div></div>"
      ]
     },
     "metadata": {},
     "output_type": "display_data"
    },
    {
     "name": "stderr",
     "output_type": "stream",
     "text": [
      "\r\n",
      "(1,7): error CS0246: Der Typ- oder Namespacename \"X\" wurde nicht gefunden (möglicherweise fehlt eine using-Direktive oder ein Assemblyverweis).\r\n",
      "\r\n"
     ]
    },
    {
     "ename": "Cell not executed",
     "evalue": "compilation error",
     "output_type": "error",
     "traceback": []
    }
   ],
   "source": [
    "#r \"nuget:XPlot.Plotly,3.0.1\""
   ]
  },
  {
   "cell_type": "code",
   "execution_count": 9,
   "metadata": {
    "dotnet_interactive": {
     "language": "csharp"
    },
    "vscode": {
     "languageId": "dotnet-interactive.csharp"
    }
   },
   "outputs": [
    {
     "name": "stderr",
     "output_type": "stream",
     "text": [
      "\r\n",
      "(1,7): error CS0246: Der Typ- oder Namespacename \"X\" wurde nicht gefunden (möglicherweise fehlt eine using-Direktive oder ein Assemblyverweis).\r\n",
      "\r\n",
      "(8,36): error CS0246: Der Typ- oder Namespacename \"Calculation\" wurde nicht gefunden (möglicherweise fehlt eine using-Direktive oder ein Assemblyverweis).\r\n",
      "\r\n"
     ]
    },
    {
     "ename": "Cell not executed",
     "evalue": "compilation error",
     "output_type": "error",
     "traceback": []
    }
   ],
   "source": [
    "using X.Plot.Plotly;\n",
    "using System;\n",
    "using System.Data;\n",
    "using System.Data.OleDb;\n",
    "\n",
    "class Table\n",
    "{\n",
    "    public void ADONET_dynTabelle1(Calculation calc)\n",
    "    {\n",
    "        XMLTextReader reader = null;\n",
    "        try\n",
    "        {\n",
    "            reader = new XMLTextReader(\"result.xml\")\n",
    "        }catch(Filenotfound)\n",
    "        {\n",
    "            Console.WriteLine(\"Your File is incorrect. Please check it.\");\n",
    "            Environment.Exit(0);\n",
    "        }\n",
    "        \n",
    "    DataTable Table = new DataTable();\n",
    "    //Spalten erzeugen\n",
    "    Table.Columns.Add(\"year\", System.Type.GetType(\"System.Int32\"));\n",
    "    Table.Columns.Add(\"students\", System.Type.GetType(\"System.Int32\"));\n",
    "    Table.Columns.Add(\"teacher\", System.Type.GetType(\"System.Int32\"));\n",
    "    Table.Columns.Add(\"needed teacher\", System.Type.GetType(\"System.Int32\"));\n",
    "    Table.Columns.Add(\"schools\", System.Type.GetType(\"System.Int32\"));\n",
    "    Table.Columns.Add(\"needed schools\", System.Type.GetType(\"System.Int32\"));\n",
    "\n",
    "    //1. Zeile erzeugen\n",
    "    DataRow row1 = Table.NewRow();\n",
    "    //Wert fehlt\n",
    "    row1 [\"year\"] = +5;\n",
    "    row1 [\"students\"] = calc.students5;\n",
    "    row1 [\"teacher\"] = calc.teachers5;\n",
    "    row1 [\"needed teacher\"] = calc.teachersneeded5;\n",
    "    row1 [\"schools\"] = calc.schools;\n",
    "    row1 [\"needed schools\"] = calc.schoolsneeded5;\n",
    "    //Anfügen an Tabelle\n",
    "    Table.Rows.Add(row1);\n",
    "    //weitere sind identisch\n",
    "    //2.Zeile\n",
    "    DataRow row2 = Table.NewRow();\n",
    "    //Wert fehlt\n",
    "    row2 [\"year\"] = +10;\n",
    "    row2 [\"students\"] = calc.students10;\n",
    "    row2 [\"teacher\"] = calc.teachers10;\n",
    "    row2 [\"needed teacher\"] = calc.teachersneeded10;\n",
    "    row2 [\"schools\"] = calc.schools;\n",
    "    row2 [\"needed schools\"] = calc.schoolsneeded10;\n",
    "    //Anfügen an Tabelle\n",
    "    Table.Rows.Add(row2);\n",
    "    //3.Zeile\n",
    "    DataRow row3 = Table.NewRow();\n",
    "    //Wert fehlt\n",
    "    row3 [\"year\"] = +15;\n",
    "    row3 [\"students\"] = calc.students15;\n",
    "    row3 [\"teacher\"] = calc.teachers15;\n",
    "    row3 [\"needed teacher\"] = calc.teachersneeded15;\n",
    "    row3 [\"schools\"] = calc.schools;\n",
    "    row3 [\"needed schools\"] = calc.schoolsneeded15;\n",
    "    //Anfügen an Tabelle\n",
    "    Table.Rows.Add(row3);\n",
    "    //4.Zeile\n",
    "    DataRow row4 = Table.NewRow();\n",
    "    //Wert fehlt\n",
    "    row4 [\"year\"] = +20;\n",
    "    row4 [\"students\"] = calc.students20;\n",
    "    row4 [\"teacher\"] = calc.teachers20;\n",
    "    row4 [\"needed teacher\"] = calc.teachersneeded20;\n",
    "    row4 [\"schools\"] = calc.schools;\n",
    "    row4 [\"needed schools\"] = calc.schoolsneeded20;\n",
    "    //Anfügen an Tabelle\n",
    "    Table.Rows.Add(row4);\n",
    "    }\n",
    "}"
   ]
  },
  {
   "cell_type": "code",
   "execution_count": null,
   "metadata": {},
   "outputs": [],
   "source": []
  }
 ],
 "metadata": {
  "kernelspec": {
   "display_name": ".NET (C#)",
   "language": "C#",
   "name": ".net-csharp"
  },
  "language_info": {
   "file_extension": ".cs",
   "mimetype": "text/x-csharp",
   "name": "C#",
   "pygments_lexer": "csharp",
   "version": "10.0"
  }
 },
 "nbformat": 4,
 "nbformat_minor": 2
}
